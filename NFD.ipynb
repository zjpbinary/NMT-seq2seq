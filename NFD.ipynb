{
 "cells": [
  {
   "cell_type": "code",
   "execution_count": 3,
   "metadata": {},
   "outputs": [
    {
     "name": "stdout",
     "output_type": "stream",
     "text": [
      "Spicy Jalapeño\n",
      "Spicy Jalapeño\n",
      "s1 == s2 ? False\n",
      "len(s1)= 14 len(s1)= 15\n",
      "---------------------------\n",
      "n_s1 == n_s2 ? True\n",
      "len(n_s1)= 14 len(n_s2) 14\n",
      "*****************************\n",
      "t1 == t2 ? True\n",
      "len(t1)= 15 len(t2)= 15\n",
      "Spicy Jalapeno\n"
     ]
    }
   ],
   "source": [
    "s1 = 'Spicy Jalape\\u00f1o'#Spicy Jalapeño使用的是字符“ñ” 的全组成形式（U+00F1）\n",
    "s2 = 'Spicy Jalapen\\u0303o'#Spicy Jalapeño使用的是拉丁字母“n”紧跟着一个“~”组合而成的字符（U+0303）\n",
    "\n",
    "# (a) Print them out (usually looks identical)\n",
    "print(s1)\n",
    "print(s2)\n",
    "\n",
    "# (b) Examine equality and length\n",
    "print('s1 == s2 ?', s1 == s2)\n",
    "print('len(s1)=',len(s1), 'len(s1)=',len(s2))\n",
    "print ('---------------------------')\n",
    "# (c) Normalize and try the same experiment\n",
    "import unicodedata\n",
    "\n",
    "n_s1 = unicodedata.normalize('NFC', s1)\n",
    "n_s2 = unicodedata.normalize('NFC', s2)\n",
    "\n",
    "print('n_s1 == n_s2 ?', n_s1 == n_s2)\n",
    "print('len(n_s1)=',len(n_s1), 'len(n_s2)',len(n_s2))\n",
    "print ('*****************************')\n",
    "# (d) Example of normalizing to a decomposed form and stripping accents\n",
    "t1 = unicodedata.normalize('NFD', s1)\n",
    "t2 = unicodedata.normalize('NFD', s2)\n",
    "print ('t1 == t2 ?',t1==t2)\n",
    "print ('len(t1)=',len(t1),'len(t2)=',len(t2))\n",
    "print(''.join(c for c in t1 if not unicodedata.combining(c)))"
   ]
  },
  {
   "cell_type": "code",
   "execution_count": null,
   "metadata": {
    "collapsed": true
   },
   "outputs": [],
   "source": []
  }
 ],
 "metadata": {
  "kernelspec": {
   "display_name": "Python 3",
   "language": "python",
   "name": "python3"
  },
  "language_info": {
   "codemirror_mode": {
    "name": "ipython",
    "version": 3
   },
   "file_extension": ".py",
   "mimetype": "text/x-python",
   "name": "python",
   "nbconvert_exporter": "python",
   "pygments_lexer": "ipython3",
   "version": "3.6.3"
  }
 },
 "nbformat": 4,
 "nbformat_minor": 2
}
